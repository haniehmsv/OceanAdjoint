{
 "cells": [
  {
   "cell_type": "code",
   "execution_count": 1,
   "id": "e6665b14",
   "metadata": {},
   "outputs": [],
   "source": [
    "import model\n",
    "import data_loaders\n",
    "import torch\n",
    "import numpy as np\n",
    "from torch.utils.data import DataLoader\n",
    "from torch.utils.data import random_split"
   ]
  },
  {
   "cell_type": "code",
   "execution_count": 12,
   "id": "96f9f346",
   "metadata": {},
   "outputs": [],
   "source": [
    "T = 5                  # Number of time steps\n",
    "H, W = 32, 32        # Spatial dimensions\n",
    "N_half = 100            # Number of samples per case (SSH and OBP)\n",
    "C_in = 2               # SSH and OBP channels\n",
    "C_out = 4              # Number of output channels (e.g., SSH, OBP, and two additional channels)\n",
    "N = 2 * N_half         # Total number of samples\n",
    "embed_dim = 8          # Embedding dimension for cost function\n",
    "wet = torch.ones((H, W), dtype=torch.float32)  # Example wet mask (1 for wet, 0 for dry)"
   ]
  },
  {
   "cell_type": "code",
   "execution_count": null,
   "id": "0bb7a1ea",
   "metadata": {},
   "outputs": [],
   "source": [
    "x = torch.zeros((N, T, C_in, H, W))\n",
    "labels = torch.cat([torch.ones(N_half), torch.zeros(N_half)]).long()  # 1=SSH, 0=OBP    #or None\n",
    "\n",
    "torch.manual_seed(0)\n",
    "spatial_indices = torch.randint(0, H * W, (N_half,))\n",
    "centers = [(idx // W, idx % W) for idx in spatial_indices]\n",
    "\n",
    "# Helper function to get neighborhood bounds at time t\n",
    "def get_neighbors(center, t, H, W):\n",
    "    i, j = center\n",
    "    r = t  # radius grows with time\n",
    "    return max(i - r, 0), min(i + r + 1, H), max(j - r, 0), min(j + r + 1, W)"
   ]
  },
  {
   "cell_type": "code",
   "execution_count": 14,
   "id": "2c1e14fa",
   "metadata": {},
   "outputs": [],
   "source": [
    "# Build x for J = SSH (label = 1)\n",
    "for i in range(N_half):\n",
    "    center = centers[i]\n",
    "    for t in range(T):\n",
    "        i_min, i_max, j_min, j_max = get_neighbors(center, t, H, W)\n",
    "        if t == 0:\n",
    "            # At t=0, only ∂J/∂SSH has 1 at center\n",
    "            x[i, t, 0, center[0], center[1]] = 1.0\n",
    "            x[i, t, 1, :, :] = 0.0\n",
    "        else:\n",
    "            # Later times: growing neighborhood in both SSH and OBP channels\n",
    "            x[i, t, 0, i_min:i_max, j_min:j_max] = torch.rand(i_max - i_min, j_max - j_min) * 2 - 1\n",
    "            x[i, t, 1, i_min:i_max, j_min:j_max] = torch.rand(i_max - i_min, j_max - j_min) * 2 - 1"
   ]
  },
  {
   "cell_type": "code",
   "execution_count": 15,
   "id": "b972ae03",
   "metadata": {},
   "outputs": [],
   "source": [
    "# Build x for J = OBP (label = 0)\n",
    "for i in range(N_half):\n",
    "    center = centers[i]\n",
    "    for t in range(T):\n",
    "        i_min, i_max, j_min, j_max = get_neighbors(center, t, H, W)\n",
    "        if t == 0:\n",
    "            # At t=0, only ∂J/∂OBP has 1 at center\n",
    "            x[N_half + i, t, 1, center[0], center[1]] = 1.0\n",
    "            x[N_half + i, t, 0, :, :] = 0.0\n",
    "        else:\n",
    "            # Later times: growing neighborhood in both SSH and OBP channels\n",
    "            x[N_half + i, t, 0, i_min:i_max, j_min:j_max] = torch.rand(i_max - i_min, j_max - j_min) * 2 - 1\n",
    "            x[N_half + i, t, 1, i_min:i_max, j_min:j_max] = torch.rand(i_max - i_min, j_max - j_min) * 2 - 1"
   ]
  },
  {
   "cell_type": "code",
   "execution_count": 16,
   "id": "c31449cb",
   "metadata": {},
   "outputs": [],
   "source": [
    "y = torch.zeros((N, T, C_out, H, W))  # Allocate output tensor\n",
    "\n",
    "# First two channels from shifted x\n",
    "y[:, :-1, 0, :, :] = x[:, 1:, 0, :, :]  # dJ/dSSH_t   ← x[:, t+1, 0]\n",
    "y[:, :-1, 1, :, :] = x[:, 1:, 1, :, :]  # dJ/dOBP_t   ← x[:, t+1, 1]\n",
    "\n",
    "for i in range(N):\n",
    "    center = centers[i % (N // 2)]  # same center reused for J=SSH and J=OBP\n",
    "    t = T-1\n",
    "    i_min, i_max, j_min, j_max = get_neighbors(center, t, H, W)\n",
    "    y[i, t, 0, i_min:i_max, j_min:j_max] = torch.rand(i_max - i_min, j_max - j_min) * 2 - 1\n",
    "    y[i, t, 1, i_min:i_max, j_min:j_max] = torch.rand(i_max - i_min, j_max - j_min) * 2 - 1"
   ]
  },
  {
   "cell_type": "code",
   "execution_count": 17,
   "id": "6d62be35",
   "metadata": {},
   "outputs": [],
   "source": [
    "# Generate forcing adjoints for tau_u and tau_v\n",
    "for i in range(N):\n",
    "    center = centers[i % (N // 2)]  # same center reused for J=SSH and J=OBP\n",
    "    for t in range(T):\n",
    "        i_min, i_max, j_min, j_max = get_neighbors(center, t, H, W)\n",
    "        y[i, t, 2, i_min:i_max, j_min:j_max] = torch.rand(i_max - i_min, j_max - j_min) * 2 - 1\n",
    "        y[i, t, 3, i_min:i_max, j_min:j_max] = torch.rand(i_max - i_min, j_max - j_min) * 2 - 1"
   ]
  },
  {
   "cell_type": "code",
   "execution_count": 18,
   "id": "377ccc2a",
   "metadata": {},
   "outputs": [],
   "source": [
    "# Split train and test datasets\n",
    "N, T, C_in, H, W = x.shape  # N= total number of spatial points * 2 (one for SSH and one for OBP)\n",
    "C_out = y.shape[2]  # Number of output channels\n",
    "test_percent = 0.2\n",
    "train_frac = 1.0 - test_percent\n",
    "n_train = int(train_frac * N)\n",
    "n_test = int(test_percent * N)"
   ]
  },
  {
   "cell_type": "code",
   "execution_count": 19,
   "id": "b458fc4d",
   "metadata": {},
   "outputs": [],
   "source": [
    "# Optional: shuffle indices with reproducibility\n",
    "generator = torch.Generator().manual_seed(42)\n",
    "indices = torch.randperm(N, generator=generator)\n",
    "x_shuffled = x[indices]\n",
    "y_shuffled = y[indices]\n",
    "labels_shuffled = labels[indices]\n",
    "\n",
    "x_train, x_test = torch.split(x_shuffled, [n_train, n_test])\n",
    "y_train, y_test = torch.split(y_shuffled, [n_train, n_test])\n",
    "labels_train, labels_test = torch.split(labels_shuffled, [n_train, n_test])\n",
    "\n",
    "embedder = model.CostFunctionEmbedding(enc_dim=2, embed_dim=embed_dim, spatial_shape=(H, W))\n",
    "train_dataset = data_loaders.AdjointDataset(x_train, y_train, labels_train)\n",
    "test_dataset  = data_loaders.AdjointDataset(x_test, y_test, labels_test)\n",
    "\n",
    "train_loader = torch.utils.data.DataLoader(train_dataset, batch_size=16, shuffle=True)\n",
    "test_loader  = torch.utils.data.DataLoader(test_dataset, batch_size=16, shuffle=False)"
   ]
  },
  {
   "cell_type": "code",
   "execution_count": null,
   "id": "2c5f1d2c",
   "metadata": {},
   "outputs": [],
   "source": [
    "if labels is not None:\n",
    "    model_adj = model.AdjointModel(backbone=model.AdjointNet(wet, in_channels=C_in+embed_dim, out_channels=C_out))  # insert args\n",
    "    optimizer = torch.optim.AdamW(list(model_adj.parameters()) + list(embedder.parameters()), lr=1e-4, weight_decay=1e-5)\n",
    "else:\n",
    "    model_adj = model.AdjointModel(backbone=model.AdjointNet(wet, in_channels=C_in, out_channels=C_out))  # insert args\n",
    "    optimizer = torch.optim.AdamW(model_adj.parameters(), lr=1e-4, weight_decay=1e-5)"
   ]
  },
  {
   "cell_type": "code",
   "execution_count": 21,
   "id": "148d4787",
   "metadata": {},
   "outputs": [
    {
     "name": "stdout",
     "output_type": "stream",
     "text": [
      "check training\n",
      "check training\n",
      "check training\n",
      "check training\n",
      "check training\n"
     ]
    },
    {
     "ename": "KeyboardInterrupt",
     "evalue": "",
     "output_type": "error",
     "traceback": [
      "\u001b[0;31m---------------------------------------------------------------------------\u001b[0m",
      "\u001b[0;31mKeyboardInterrupt\u001b[0m                         Traceback (most recent call last)",
      "Cell \u001b[0;32mIn[21], line 1\u001b[0m\n\u001b[0;32m----> 1\u001b[0m \u001b[43mmodel\u001b[49m\u001b[38;5;241;43m.\u001b[39;49m\u001b[43mtrain_adjoint_model\u001b[49m\u001b[43m(\u001b[49m\n\u001b[1;32m      2\u001b[0m \u001b[43m    \u001b[49m\u001b[43mmodel\u001b[49m\u001b[38;5;241;43m=\u001b[39;49m\u001b[43mmodel_adj\u001b[49m\u001b[43m,\u001b[49m\n\u001b[1;32m      3\u001b[0m \u001b[43m    \u001b[49m\u001b[43mdataloader\u001b[49m\u001b[38;5;241;43m=\u001b[39;49m\u001b[43mtrain_loader\u001b[49m\u001b[43m,\u001b[49m\n\u001b[1;32m      4\u001b[0m \u001b[43m    \u001b[49m\u001b[43moptimizer\u001b[49m\u001b[38;5;241;43m=\u001b[39;49m\u001b[43moptimizer\u001b[49m\u001b[43m,\u001b[49m\n\u001b[1;32m      5\u001b[0m \u001b[43m    \u001b[49m\u001b[43mval_loader\u001b[49m\u001b[38;5;241;43m=\u001b[39;49m\u001b[43mtest_loader\u001b[49m\u001b[43m,\u001b[49m\n\u001b[1;32m      6\u001b[0m \u001b[43m    \u001b[49m\u001b[43mnum_epochs\u001b[49m\u001b[38;5;241;43m=\u001b[39;49m\u001b[38;5;241;43m1000\u001b[39;49m\u001b[43m,\u001b[49m\n\u001b[1;32m      7\u001b[0m \u001b[43m    \u001b[49m\u001b[43mpatience\u001b[49m\u001b[38;5;241;43m=\u001b[39;49m\u001b[38;5;241;43m100\u001b[39;49m\u001b[43m,\u001b[49m\n\u001b[1;32m      8\u001b[0m \u001b[43m    \u001b[49m\u001b[43mlabel_embedder\u001b[49m\u001b[38;5;241;43m=\u001b[39;49m\u001b[43membedder\u001b[49m\u001b[43m,\u001b[49m\n\u001b[1;32m      9\u001b[0m \u001b[43m    \u001b[49m\u001b[43msave_path\u001b[49m\u001b[38;5;241;43m=\u001b[39;49m\u001b[38;5;124;43m\"\u001b[39;49m\u001b[38;5;124;43mbest_model.pt\u001b[39;49m\u001b[38;5;124;43m\"\u001b[39;49m\u001b[43m,\u001b[49m\n\u001b[1;32m     10\u001b[0m \u001b[43m    \u001b[49m\u001b[43mdevice\u001b[49m\u001b[38;5;241;43m=\u001b[39;49m\u001b[43mtorch\u001b[49m\u001b[38;5;241;43m.\u001b[39;49m\u001b[43mdevice\u001b[49m\u001b[43m(\u001b[49m\u001b[38;5;124;43m\"\u001b[39;49m\u001b[38;5;124;43mcuda\u001b[39;49m\u001b[38;5;124;43m\"\u001b[39;49m\u001b[43m \u001b[49m\u001b[38;5;28;43;01mif\u001b[39;49;00m\u001b[43m \u001b[49m\u001b[43mtorch\u001b[49m\u001b[38;5;241;43m.\u001b[39;49m\u001b[43mcuda\u001b[49m\u001b[38;5;241;43m.\u001b[39;49m\u001b[43mis_available\u001b[49m\u001b[43m(\u001b[49m\u001b[43m)\u001b[49m\u001b[43m \u001b[49m\u001b[38;5;28;43;01melse\u001b[39;49;00m\u001b[43m \u001b[49m\u001b[38;5;124;43m\"\u001b[39;49m\u001b[38;5;124;43mcpu\u001b[39;49m\u001b[38;5;124;43m\"\u001b[39;49m\u001b[43m)\u001b[49m\n\u001b[1;32m     11\u001b[0m \u001b[43m)\u001b[49m\n",
      "File \u001b[0;32m~/Internship/Adjoint_learning/adjoint/model.py:221\u001b[0m, in \u001b[0;36mtrain_adjoint_model\u001b[0;34m(model, dataloader, optimizer, label_embedder, device, num_epochs, scheduler, log_every, val_loader, early_stopping, patience, save_path)\u001b[0m\n\u001b[1;32m    219\u001b[0m pred \u001b[38;5;241m=\u001b[39m model(xb)\n\u001b[1;32m    220\u001b[0m loss \u001b[38;5;241m=\u001b[39m torch\u001b[38;5;241m.\u001b[39mnn\u001b[38;5;241m.\u001b[39mfunctional\u001b[38;5;241m.\u001b[39mmse_loss(pred, yb)\n\u001b[0;32m--> 221\u001b[0m \u001b[43mloss\u001b[49m\u001b[38;5;241;43m.\u001b[39;49m\u001b[43mbackward\u001b[49m\u001b[43m(\u001b[49m\u001b[43m)\u001b[49m\n\u001b[1;32m    222\u001b[0m optimizer\u001b[38;5;241m.\u001b[39mstep()\n\u001b[1;32m    224\u001b[0m total_loss \u001b[38;5;241m+\u001b[39m\u001b[38;5;241m=\u001b[39m loss\u001b[38;5;241m.\u001b[39mitem()\n",
      "File \u001b[0;32m/opt/miniconda3/envs/samudra/lib/python3.10/site-packages/torch/_tensor.py:522\u001b[0m, in \u001b[0;36mTensor.backward\u001b[0;34m(self, gradient, retain_graph, create_graph, inputs)\u001b[0m\n\u001b[1;32m    512\u001b[0m \u001b[38;5;28;01mif\u001b[39;00m has_torch_function_unary(\u001b[38;5;28mself\u001b[39m):\n\u001b[1;32m    513\u001b[0m     \u001b[38;5;28;01mreturn\u001b[39;00m handle_torch_function(\n\u001b[1;32m    514\u001b[0m         Tensor\u001b[38;5;241m.\u001b[39mbackward,\n\u001b[1;32m    515\u001b[0m         (\u001b[38;5;28mself\u001b[39m,),\n\u001b[0;32m   (...)\u001b[0m\n\u001b[1;32m    520\u001b[0m         inputs\u001b[38;5;241m=\u001b[39minputs,\n\u001b[1;32m    521\u001b[0m     )\n\u001b[0;32m--> 522\u001b[0m \u001b[43mtorch\u001b[49m\u001b[38;5;241;43m.\u001b[39;49m\u001b[43mautograd\u001b[49m\u001b[38;5;241;43m.\u001b[39;49m\u001b[43mbackward\u001b[49m\u001b[43m(\u001b[49m\n\u001b[1;32m    523\u001b[0m \u001b[43m    \u001b[49m\u001b[38;5;28;43mself\u001b[39;49m\u001b[43m,\u001b[49m\u001b[43m \u001b[49m\u001b[43mgradient\u001b[49m\u001b[43m,\u001b[49m\u001b[43m \u001b[49m\u001b[43mretain_graph\u001b[49m\u001b[43m,\u001b[49m\u001b[43m \u001b[49m\u001b[43mcreate_graph\u001b[49m\u001b[43m,\u001b[49m\u001b[43m \u001b[49m\u001b[43minputs\u001b[49m\u001b[38;5;241;43m=\u001b[39;49m\u001b[43minputs\u001b[49m\n\u001b[1;32m    524\u001b[0m \u001b[43m\u001b[49m\u001b[43m)\u001b[49m\n",
      "File \u001b[0;32m/opt/miniconda3/envs/samudra/lib/python3.10/site-packages/torch/autograd/__init__.py:266\u001b[0m, in \u001b[0;36mbackward\u001b[0;34m(tensors, grad_tensors, retain_graph, create_graph, grad_variables, inputs)\u001b[0m\n\u001b[1;32m    261\u001b[0m     retain_graph \u001b[38;5;241m=\u001b[39m create_graph\n\u001b[1;32m    263\u001b[0m \u001b[38;5;66;03m# The reason we repeat the same comment below is that\u001b[39;00m\n\u001b[1;32m    264\u001b[0m \u001b[38;5;66;03m# some Python versions print out the first line of a multi-line function\u001b[39;00m\n\u001b[1;32m    265\u001b[0m \u001b[38;5;66;03m# calls in the traceback and some print out the last line\u001b[39;00m\n\u001b[0;32m--> 266\u001b[0m \u001b[43mVariable\u001b[49m\u001b[38;5;241;43m.\u001b[39;49m\u001b[43m_execution_engine\u001b[49m\u001b[38;5;241;43m.\u001b[39;49m\u001b[43mrun_backward\u001b[49m\u001b[43m(\u001b[49m\u001b[43m  \u001b[49m\u001b[38;5;66;43;03m# Calls into the C++ engine to run the backward pass\u001b[39;49;00m\n\u001b[1;32m    267\u001b[0m \u001b[43m    \u001b[49m\u001b[43mtensors\u001b[49m\u001b[43m,\u001b[49m\n\u001b[1;32m    268\u001b[0m \u001b[43m    \u001b[49m\u001b[43mgrad_tensors_\u001b[49m\u001b[43m,\u001b[49m\n\u001b[1;32m    269\u001b[0m \u001b[43m    \u001b[49m\u001b[43mretain_graph\u001b[49m\u001b[43m,\u001b[49m\n\u001b[1;32m    270\u001b[0m \u001b[43m    \u001b[49m\u001b[43mcreate_graph\u001b[49m\u001b[43m,\u001b[49m\n\u001b[1;32m    271\u001b[0m \u001b[43m    \u001b[49m\u001b[43minputs\u001b[49m\u001b[43m,\u001b[49m\n\u001b[1;32m    272\u001b[0m \u001b[43m    \u001b[49m\u001b[43mallow_unreachable\u001b[49m\u001b[38;5;241;43m=\u001b[39;49m\u001b[38;5;28;43;01mTrue\u001b[39;49;00m\u001b[43m,\u001b[49m\n\u001b[1;32m    273\u001b[0m \u001b[43m    \u001b[49m\u001b[43maccumulate_grad\u001b[49m\u001b[38;5;241;43m=\u001b[39;49m\u001b[38;5;28;43;01mTrue\u001b[39;49;00m\u001b[43m,\u001b[49m\n\u001b[1;32m    274\u001b[0m \u001b[43m\u001b[49m\u001b[43m)\u001b[49m\n",
      "\u001b[0;31mKeyboardInterrupt\u001b[0m: "
     ]
    }
   ],
   "source": [
    "model.train_adjoint_model(\n",
    "    model=model_adj,\n",
    "    dataloader=train_loader,\n",
    "    optimizer=optimizer,\n",
    "    val_loader=test_loader,\n",
    "    num_epochs=1000,\n",
    "    patience=100,\n",
    "    label_embedder=embedder,\n",
    "    save_path=\"best_model.pt\",\n",
    "    device=torch.device(\"cuda\" if torch.cuda.is_available() else \"cpu\")\n",
    ")"
   ]
  },
  {
   "cell_type": "markdown",
   "id": "6f460663",
   "metadata": {},
   "source": [
    "# Plots"
   ]
  },
  {
   "cell_type": "code",
   "execution_count": 55,
   "id": "a48a9b31",
   "metadata": {},
   "outputs": [],
   "source": [
    "import matplotlib.pyplot as plt\n",
    "\n",
    "def plot_adjoint_slices(y, idx_n, idx_c, i=0, title_prefix=\"Adjoint\"):\n",
    "    \"\"\"\n",
    "    Plot 4 consecutive time slices from y[idx_n, i:i+4, idx_c, :, :]\n",
    "\n",
    "    Args:\n",
    "        y: torch.Tensor of shape (N, T, C_out, H, W)\n",
    "        idx_n: int, index into the sample dimension (N)\n",
    "        idx_c: int, index into the output channel (0–3)\n",
    "        i: int, starting time index (default=0)\n",
    "        title_prefix: str, prefix for subplot titles\n",
    "    \"\"\"\n",
    "    assert i + 4 <= y.shape[1], \"Not enough time steps to plot 4 slices\"\n",
    "\n",
    "    slices = y[idx_n, i:i+4, idx_c, :, :].cpu().numpy()\n",
    "\n",
    "    fig, axes = plt.subplots(1, 4, figsize=(18, 4))\n",
    "    for j in range(4):\n",
    "        ax = axes[j]\n",
    "        im = ax.imshow(slices[j], origin='lower', cmap='coolwarm', vmin=-1, vmax=1)\n",
    "        ax.set_title(f\"{title_prefix} t-{i+j}\")\n",
    "        ax.axis('off')\n",
    "    cbar = fig.colorbar(im, ax=axes.ravel().tolist(), shrink=0.8, pad=0.01)\n",
    "    plt.tight_layout()\n",
    "    plt.show()"
   ]
  },
  {
   "cell_type": "code",
   "execution_count": 59,
   "id": "4d939e53",
   "metadata": {},
   "outputs": [
    {
     "name": "stderr",
     "output_type": "stream",
     "text": [
      "/var/folders/1t/drmp335n0fb0xt1jf2h76c640000gq/T/ipykernel_24619/1934727317.py:25: UserWarning: This figure includes Axes that are not compatible with tight_layout, so results might be incorrect.\n",
      "  plt.tight_layout()\n"
     ]
    },
    {
     "data": {
      "image/png": "[encoded data removed]",
      "text/plain": [
       "<Figure size 1800x400 with 5 Axes>"
      ]
     },
     "metadata": {},
     "output_type": "display_data"
    }
   ],
   "source": [
    "plot_adjoint_slices(x, idx_n=2, idx_c=1, i=0, title_prefix=\"dJ/d(OBP)\")"
   ]
  },
  {
   "cell_type": "code",
   "execution_count": 57,
   "id": "074c7b7d",
   "metadata": {},
   "outputs": [
    {
     "data": {
      "text/plain": [
       "[(tensor(4), tensor(4)),\n",
       " (tensor(3), tensor(9)),\n",
       " (tensor(3), tensor(3)),\n",
       " (tensor(6), tensor(0)),\n",
       " (tensor(6), tensor(3)),\n",
       " (tensor(7), tensor(9)),\n",
       " (tensor(2), tensor(7)),\n",
       " (tensor(0), tensor(3)),\n",
       " (tensor(9), tensor(7)),\n",
       " (tensor(8), tensor(3))]"
      ]
     },
     "execution_count": 57,
     "metadata": {},
     "output_type": "execute_result"
    }
   ],
   "source": [
    "centers"
   ]
  },
  {
   "cell_type": "code",
   "execution_count": null,
   "id": "91c62bf2",
   "metadata": {},
   "outputs": [],
   "source": []
  }
 ],
 "metadata": {
  "kernelspec": {
   "display_name": "samudra",
   "language": "python",
   "name": "python3"
  },
  "language_info": {
   "codemirror_mode": {
    "name": "ipython",
    "version": 3
   },
   "file_extension": ".py",
   "mimetype": "text/x-python",
   "name": "python",
   "nbconvert_exporter": "python",
   "pygments_lexer": "ipython3",
   "version": "3.10.13"
  }
 },
 "nbformat": 4,
 "nbformat_minor": 5
}
